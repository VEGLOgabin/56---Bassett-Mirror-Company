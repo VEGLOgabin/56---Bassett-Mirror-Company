{
 "cells": [
  {
   "cell_type": "code",
   "execution_count": 2,
   "metadata": {},
   "outputs": [],
   "source": [
    "from bs4 import BeautifulSoup\n",
    "import requests\n",
    "import re"
   ]
  },
  {
   "cell_type": "code",
   "execution_count": 3,
   "metadata": {},
   "outputs": [],
   "source": [
    "\n",
    "url =  \"https://www.bassettmirror.com/detail.cfm?id=1097/2914-700-926/Symmetry%20Dining%20Table\""
   ]
  },
  {
   "cell_type": "markdown",
   "metadata": {},
   "source": []
  },
  {
   "cell_type": "code",
   "execution_count": 4,
   "metadata": {},
   "outputs": [],
   "source": [
    "req = requests.get(url)"
   ]
  },
  {
   "cell_type": "code",
   "execution_count": 76,
   "metadata": {},
   "outputs": [
    {
     "data": {
      "text/plain": [
       "200"
      ]
     },
     "execution_count": 76,
     "metadata": {},
     "output_type": "execute_result"
    }
   ],
   "source": [
    "req.status_code"
   ]
  },
  {
   "cell_type": "code",
   "execution_count": 5,
   "metadata": {},
   "outputs": [],
   "source": [
    "\n",
    "soup = BeautifulSoup(req.content, \"html.parser\")"
   ]
  },
  {
   "cell_type": "code",
   "execution_count": null,
   "metadata": {},
   "outputs": [],
   "source": []
  },
  {
   "cell_type": "code",
   "execution_count": 82,
   "metadata": {},
   "outputs": [
    {
     "data": {
      "text/plain": [
       "'Bassett Mirror Company'"
      ]
     },
     "execution_count": 82,
     "metadata": {},
     "output_type": "execute_result"
    }
   ],
   "source": [
    "soup.title.text.strip()"
   ]
  },
  {
   "cell_type": "markdown",
   "metadata": {},
   "source": [
    "## Web pages html Code saving for selectors checking"
   ]
  },
  {
   "cell_type": "code",
   "execution_count": 6,
   "metadata": {},
   "outputs": [],
   "source": [
    "# Saving the prettified HTML to a file\n",
    "with open(\"product.html\", \"w\", encoding=\"utf-8\") as file:\n",
    "    file.write(soup.prettify())"
   ]
  },
  {
   "cell_type": "markdown",
   "metadata": {},
   "source": [
    "## Nav Bar links scraping"
   ]
  },
  {
   "cell_type": "code",
   "execution_count": 8,
   "metadata": {},
   "outputs": [],
   "source": [
    "menu = soup.find(\"ul\", id=\"menu\")"
   ]
  },
  {
   "cell_type": "code",
   "execution_count": 9,
   "metadata": {},
   "outputs": [],
   "source": [
    "collections_link = menu.find_all(\"a\")"
   ]
  },
  {
   "cell_type": "code",
   "execution_count": 34,
   "metadata": {},
   "outputs": [],
   "source": [
    "menu = soup.find(\"ul\", id=\"menu\")\n",
    "collections_link = menu.find_all(\"a\")\n",
    "collections = []\n",
    "for item in collections_link:\n",
    "    href = item.get(\"href\")\n",
    "    if href.startswith(\"/shop-products.\") and not href.endswith(\"qs=1\"):\n",
    "        collections.append(\"https://www.bassettmirror.com\" + href.replace(\" \", \"%20\"))"
   ]
  },
  {
   "cell_type": "code",
   "execution_count": null,
   "metadata": {},
   "outputs": [],
   "source": [
    "collections"
   ]
  },
  {
   "cell_type": "code",
   "execution_count": null,
   "metadata": {},
   "outputs": [],
   "source": [
    "len(collections)"
   ]
  },
  {
   "cell_type": "code",
   "execution_count": 11,
   "metadata": {},
   "outputs": [],
   "source": [
    "products = soup.find_all(\"a\", class_ = \"col2 span_1_of_3 grid-tn\")"
   ]
  },
  {
   "cell_type": "code",
   "execution_count": null,
   "metadata": {},
   "outputs": [],
   "source": [
    "len(products)"
   ]
  },
  {
   "cell_type": "code",
   "execution_count": null,
   "metadata": {},
   "outputs": [],
   "source": []
  },
  {
   "cell_type": "markdown",
   "metadata": {},
   "source": [
    "## Products list gathering stage"
   ]
  },
  {
   "cell_type": "code",
   "execution_count": null,
   "metadata": {},
   "outputs": [],
   "source": [
    "# Find all <a> tags\n",
    "links = soup.find_all('a')\n",
    "\n",
    "products = []\n",
    "\n",
    "# Iterate through each link\n",
    "for link in links:\n",
    "    href = link.get(\"href\")  # Get the href attribute\n",
    "    if href and href.startswith(\"/collections/\") and \"/products/\" in href:\n",
    "        href = \"https://parker-house.com\" + href\n",
    "        products.append(href)\n",
    "        print(href)"
   ]
  },
  {
   "cell_type": "code",
   "execution_count": null,
   "metadata": {},
   "outputs": [],
   "source": [
    "len(products)"
   ]
  },
  {
   "cell_type": "code",
   "execution_count": null,
   "metadata": {},
   "outputs": [],
   "source": []
  },
  {
   "cell_type": "markdown",
   "metadata": {},
   "source": [
    "## Product page scraping"
   ]
  },
  {
   "cell_type": "code",
   "execution_count": 19,
   "metadata": {},
   "outputs": [],
   "source": [
    "product_title = soup.find(\"span\", class_ = \"pageTitle\").text.strip()"
   ]
  },
  {
   "cell_type": "code",
   "execution_count": null,
   "metadata": {},
   "outputs": [],
   "source": [
    "product_title"
   ]
  },
  {
   "cell_type": "code",
   "execution_count": 25,
   "metadata": {},
   "outputs": [],
   "source": [
    "spec = soup.find('div', class_=\"spec\").get_text().strip()\n",
    "clean_spec = spec.replace('\\xa0', ' ')"
   ]
  },
  {
   "cell_type": "code",
   "execution_count": null,
   "metadata": {},
   "outputs": [],
   "source": [
    "clean_spec"
   ]
  },
  {
   "cell_type": "code",
   "execution_count": null,
   "metadata": {},
   "outputs": [],
   "source": [
    "sku, dim = clean_spec.split(\"|\")"
   ]
  },
  {
   "cell_type": "code",
   "execution_count": 32,
   "metadata": {},
   "outputs": [],
   "source": [
    "sku = sku.strip()\n",
    "dim = dim.strip()"
   ]
  },
  {
   "cell_type": "code",
   "execution_count": null,
   "metadata": {},
   "outputs": [],
   "source": [
    "sku"
   ]
  },
  {
   "cell_type": "code",
   "execution_count": null,
   "metadata": {},
   "outputs": [],
   "source": [
    "dim"
   ]
  },
  {
   "cell_type": "code",
   "execution_count": 34,
   "metadata": {},
   "outputs": [],
   "source": [
    "dims = dim.split(\"x\")"
   ]
  },
  {
   "cell_type": "code",
   "execution_count": 35,
   "metadata": {},
   "outputs": [],
   "source": [
    "if len(dims)==3:\n",
    "    width, depth, height = dims\n",
    "elif len(dims)==2:\n",
    "    width, height = dims\n"
   ]
  },
  {
   "cell_type": "code",
   "execution_count": null,
   "metadata": {},
   "outputs": [],
   "source": [
    "width"
   ]
  },
  {
   "cell_type": "code",
   "execution_count": 46,
   "metadata": {},
   "outputs": [],
   "source": [
    "# Extract the product description\n",
    "product_description = None  # Initialize with a default value\n",
    "description_container = soup.find(\"div\", class_=\"col span_1_of_3\")\n",
    "\n",
    "if description_container:\n",
    "    description_paragraph = description_container.find(\"p\")\n",
    "    if description_paragraph:\n",
    "        product_description = description_paragraph.get_text(strip=True)"
   ]
  },
  {
   "cell_type": "code",
   "execution_count": 47,
   "metadata": {},
   "outputs": [
    {
     "data": {
      "text/plain": [
       "'The Rowan Table Lamp features a cement base  topped with a gold accent and a linen shade. Its modern shape paired with the natural cement finish make this lamp a dynamic addition to any living space.'"
      ]
     },
     "execution_count": 47,
     "metadata": {},
     "output_type": "execute_result"
    }
   ],
   "source": [
    "product_description"
   ]
  },
  {
   "cell_type": "code",
   "execution_count": 49,
   "metadata": {},
   "outputs": [],
   "source": [
    "specifiation_div = soup.find(\"div\", class_ = \"panel\" )\n",
    "specifications = {}\n",
    "if specifiation_div:\n",
    "    items = specifiation_div.find_all('li')\n",
    "    if items:\n",
    "        for item in items:\n",
    "            key, value = item.get_text().split(\":\")\n",
    "            specifications[key] = value\n"
   ]
  },
  {
   "cell_type": "code",
   "execution_count": 50,
   "metadata": {},
   "outputs": [
    {
     "data": {
      "text/plain": [
       "{'Color/Finish': 'Gray',\n",
       " 'Color Details': 'Cement',\n",
       " 'Material': 'Cement/Hard back linen shade',\n",
       " 'Style': ' Modern',\n",
       " 'Shade Material': 'Linen',\n",
       " 'Shade Color': 'White',\n",
       " 'Shade Lined': 'Yes',\n",
       " 'Shade Shape': 'Tapered Drum',\n",
       " 'Shade Size': '16x17x9',\n",
       " 'Lamp Base Dimensions': '6x6',\n",
       " 'Socket Type': 'E26',\n",
       " 'Switch Type': 'On-Off',\n",
       " 'Bulb Included': 'No',\n",
       " 'Bulb Type': 'A',\n",
       " 'Bulb Wattage': '100 Watt',\n",
       " 'Cord Length': '60.00\"',\n",
       " 'Harp Size': '7.00\"',\n",
       " 'Harp Color': 'Silver',\n",
       " 'Shipping Weight': '19.00 lbs',\n",
       " 'Shipping Method': 'Small Parcel'}"
      ]
     },
     "execution_count": 50,
     "metadata": {},
     "output_type": "execute_result"
    }
   ],
   "source": [
    "specifications"
   ]
  },
  {
   "cell_type": "code",
   "execution_count": 51,
   "metadata": {},
   "outputs": [],
   "source": [
    "additional_info_div = soup.find('div', class_ = 'spec spec_desc')\n",
    "additional_info = []\n",
    "if additional_info_div:\n",
    "    additional_info_items = additional_info_div.find_all(\"td\")\n",
    "    if additional_info_items:\n",
    "        for item in additional_info_items:\n",
    "            additional_info.append(item.get_text(strip = True))"
   ]
  },
  {
   "cell_type": "code",
   "execution_count": 52,
   "metadata": {},
   "outputs": [
    {
     "data": {
      "text/plain": [
       "['The beige cement lamp base provides a french country aesthetic',\n",
       " 'The lamp shade features a slight tapered style, transitioning from a 16 inch diamater at the top to 17 inches at the bot',\n",
       " 'Features a tapered-drum shaped, beige linen lamp shade',\n",
       " 'Bulb Type A required, not included',\n",
       " 'Easy assembly - just attach harp, finial and shade']"
      ]
     },
     "execution_count": 52,
     "metadata": {},
     "output_type": "execute_result"
    }
   ],
   "source": [
    "additional_info"
   ]
  },
  {
   "cell_type": "code",
   "execution_count": null,
   "metadata": {},
   "outputs": [],
   "source": [
    "\n",
    "# Scraping image URLs from the gallery\n",
    "image_urls = []\n",
    "gallery_div = soup.find(\"div\", id=\"gallery\")\n",
    "if gallery_div:\n",
    "    image_divs = gallery_div.find_all(\"div\", class_=\"tn\")\n",
    "    for div in image_divs:\n",
    "        style = div.get(\"style\")\n",
    "        if style:\n",
    "            # Extract the URL from the background-image style\n",
    "            url_match = re.search(r'background-image:url\\((.*?)\\);', style)\n",
    "            if url_match:\n",
    "                image_urls.append(url_match.group(1))\n",
    "\n",
    "product_images = image_urls"
   ]
  },
  {
   "cell_type": "code",
   "execution_count": 58,
   "metadata": {},
   "outputs": [
    {
     "data": {
      "text/plain": [
       "[\"'https://files.plytix.com/api/v1.1/file/public_files/pim/assets/99/e7/bd/62/62bde79981697600089987d9/images/81/68/e8/63/63e86881002f36906a208fdb/L3223TEC.jpg?s=1000x'\",\n",
       " \"'https://files.plytix.com/api/v1.1/file/public_files/pim/assets/99/e7/bd/62/62bde79981697600089987d9/images/8a/68/e8/63/63e8688a685ae95bd6bea7c1/L3223TEC_B.jpg?s=1000x'\",\n",
       " \"'https://files.plytix.com/api/v1.1/file/public_files/pim/assets/99/e7/bd/62/62bde79981697600089987d9/images/90/68/e8/63/63e86890fae9eef6a69a7c5f/L3223TEC_S1.jpg?s=1000x'\",\n",
       " \"'https://files.plytix.com/api/v1.1/file/public_files/pim/assets/99/e7/bd/62/62bde79981697600089987d9/images/5d/b9/4c/66/664cb95d6f4805fd64550b68/L3223T_S2.jpg?s=1000x'\"]"
      ]
     },
     "execution_count": 58,
     "metadata": {},
     "output_type": "execute_result"
    }
   ],
   "source": [
    "product_images"
   ]
  },
  {
   "cell_type": "code",
   "execution_count": 61,
   "metadata": {},
   "outputs": [
    {
     "data": {
      "text/plain": [
       "\"'https://files.plytix.com/api/v1.1/file/public_files/pim/assets/99/e7/bd/62/62bde79981697600089987d9/images/81/68/e8/63/63e86881002f36906a208fdb/L3223TEC.jpg?s=1000x'\""
      ]
     },
     "execution_count": 61,
     "metadata": {},
     "output_type": "execute_result"
    }
   ],
   "source": [
    "product_images[0]"
   ]
  },
  {
   "cell_type": "code",
   "execution_count": 83,
   "metadata": {},
   "outputs": [],
   "source": [
    "paths_div = soup.find(\"div\", class_ = \"master-width breadcrumbs\")\n",
    "if paths_div:\n",
    "    paths_span = paths_div.find(\"span\", class_ = \"breadcrumbs\")\n",
    "    if paths_span:\n",
    "        paths = paths_span.get_text(strip = True).split(\"/\")"
   ]
  },
  {
   "cell_type": "code",
   "execution_count": 84,
   "metadata": {},
   "outputs": [
    {
     "data": {
      "text/plain": [
       "['Furniture', 'Dining', 'Tables', 'Symmetry Dining Table']"
      ]
     },
     "execution_count": 84,
     "metadata": {},
     "output_type": "execute_result"
    }
   ],
   "source": [
    "paths"
   ]
  },
  {
   "cell_type": "code",
   "execution_count": 85,
   "metadata": {},
   "outputs": [],
   "source": [
    "if len(paths) ==4:\n",
    "    category1 = paths[0]\n",
    "    category2 = paths[1]\n",
    "    category3 = paths[2]\n",
    "    collection = paths[3]\n",
    "elif len(paths)==3:\n",
    "    category1 = paths[0]\n",
    "    category2 = paths[1]\n",
    "    collection = paths[2]\n"
   ]
  },
  {
   "cell_type": "code",
   "execution_count": 90,
   "metadata": {},
   "outputs": [
    {
     "data": {
      "text/plain": [
       "'Tables'"
      ]
     },
     "execution_count": 90,
     "metadata": {},
     "output_type": "execute_result"
    }
   ],
   "source": [
    "category3"
   ]
  },
  {
   "cell_type": "code",
   "execution_count": 1,
   "metadata": {},
   "outputs": [],
   "source": [
    "st = \"Tata bob wwiwiw\""
   ]
  },
  {
   "cell_type": "code",
   "execution_count": 2,
   "metadata": {},
   "outputs": [
    {
     "data": {
      "text/plain": [
       "['Tata bob wwiwiw']"
      ]
     },
     "execution_count": 2,
     "metadata": {},
     "output_type": "execute_result"
    }
   ],
   "source": [
    "st.split(\"|\")"
   ]
  },
  {
   "cell_type": "code",
   "execution_count": 7,
   "metadata": {},
   "outputs": [],
   "source": [
    "img_url = soup.find(\"div\", id = \"main-image\")"
   ]
  },
  {
   "cell_type": "code",
   "execution_count": 8,
   "metadata": {},
   "outputs": [],
   "source": [
    "if img_url:\n",
    "    img_url = img_url.get(\"style\")"
   ]
  },
  {
   "cell_type": "code",
   "execution_count": 9,
   "metadata": {},
   "outputs": [
    {
     "data": {
      "text/plain": [
       "\"background-image:url('https://files.plytix.com/api/v1.1/file/public_files/pim/assets/99/e7/bd/62/62bde79981697600089987d9/images/4c/96/90/64/6490964caeaac3596edb37e5/2914-700-926EC.jpg?s=1000x'); \""
      ]
     },
     "execution_count": 9,
     "metadata": {},
     "output_type": "execute_result"
    }
   ],
   "source": [
    "img_url"
   ]
  },
  {
   "cell_type": "code",
   "execution_count": 13,
   "metadata": {},
   "outputs": [],
   "source": [
    "img_url = re.search(r'background-image:url\\((.*?)\\);', img_url)"
   ]
  },
  {
   "cell_type": "code",
   "execution_count": 14,
   "metadata": {},
   "outputs": [],
   "source": [
    "product_images = img_url.group(1)"
   ]
  },
  {
   "cell_type": "code",
   "execution_count": 15,
   "metadata": {},
   "outputs": [
    {
     "data": {
      "text/plain": [
       "\"'https://files.plytix.com/api/v1.1/file/public_files/pim/assets/99/e7/bd/62/62bde79981697600089987d9/images/4c/96/90/64/6490964caeaac3596edb37e5/2914-700-926EC.jpg?s=1000x'\""
      ]
     },
     "execution_count": 15,
     "metadata": {},
     "output_type": "execute_result"
    }
   ],
   "source": [
    "product_images"
   ]
  },
  {
   "cell_type": "code",
   "execution_count": 16,
   "metadata": {},
   "outputs": [],
   "source": [
    "try:\n",
    "    specifiation_div = soup.find(\"div\", class_=\"panel\")\n",
    "    specifications = {}\n",
    "    if specifiation_div:\n",
    "        items = specifiation_div.find_all('li')\n",
    "        if items:\n",
    "            for item in items:\n",
    "                key, value = item.get_text().split(\":\", 1)\n",
    "                specifications[key.strip()] = value.strip()\n",
    "\n",
    "    if specifications:\n",
    "        style = specifications.get(\"Style\", None)\n",
    "        material = specifications.get(\"Material\", None)\n",
    "        finish = specifications.get(\"Color/Finish\", None)\n",
    "        \n",
    "    # Serialize the specifications dictionary\n",
    "    specifications_str = \"; \".join([f\"{k}: {v}\" for k, v in specifications.items()])\n",
    "\n",
    "except AttributeError:\n",
    "    specifications_str = \"\"\n"
   ]
  },
  {
   "cell_type": "code",
   "execution_count": 18,
   "metadata": {},
   "outputs": [
    {
     "data": {
      "text/plain": [
       "'Color/Finish: Gold; Color Details: Gold; Material: Hardwood; Style: Modern, Glam/Luxe; Collection: Symmetry; Weight Capacity: 50 lbs; Table Shape: Oval; Seating Capacity: Seats 4-6.; Shipping Weight: 217.00 lbs; Shipping Method: LTL'"
      ]
     },
     "execution_count": 18,
     "metadata": {},
     "output_type": "execute_result"
    }
   ],
   "source": [
    "specifications_str"
   ]
  }
 ],
 "metadata": {
  "kernelspec": {
   "display_name": "Python 3",
   "language": "python",
   "name": "python3"
  },
  "language_info": {
   "codemirror_mode": {
    "name": "ipython",
    "version": 3
   },
   "file_extension": ".py",
   "mimetype": "text/x-python",
   "name": "python",
   "nbconvert_exporter": "python",
   "pygments_lexer": "ipython3",
   "version": "3.8.10"
  }
 },
 "nbformat": 4,
 "nbformat_minor": 2
}
